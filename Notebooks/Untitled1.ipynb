{
 "cells": [
  {
   "cell_type": "markdown",
   "id": "7e5fc067-e8e7-479a-9687-b220c55eec77",
   "metadata": {},
   "source": [
    "# Bibliotecas"
   ]
  },
  {
   "cell_type": "code",
   "execution_count": 110,
   "id": "446f37e1-6583-4946-a12c-0ceb707663d1",
   "metadata": {},
   "outputs": [],
   "source": [
    "import math\n",
    "from itertools import combinations"
   ]
  },
  {
   "cell_type": "markdown",
   "id": "1c949e11-ad24-4195-90aa-349404c056a0",
   "metadata": {},
   "source": [
    "# Datos"
   ]
  },
  {
   "cell_type": "code",
   "execution_count": 111,
   "id": "c3c414e1-b72f-44a6-aa13-4afb02e3c307",
   "metadata": {},
   "outputs": [],
   "source": [
    "# --- Data ---\n",
    "circles = [\n",
    "    ((9.5, 30.5), 3.5),\n",
    "    ((11, 30.5), 3.5),\n",
    "    ((18, 5), 5),\n",
    "    ((4, 23), 3),\n",
    "    ((4, 17), 4),\n",
    "    ((7, 17), 4.5),\n",
    "    ((12.5,17), 3),\n",
    "    ((18, 15), 6),\n",
    "    ((27,19),3),\n",
    "    ((30,17),3),\n",
    "    ((4, 11), 3),\n",
    "    ((12, 9), 2),\n",
    "    ((16,9),3),    \n",
    "    ((6, 4),  3),\n",
    "    ((7.5, 4), 2.5),\n",
    "    ((18, 24), 5)\n",
    "        ]\n",
    "\n",
    "points = [\n",
    "    (28, 18), \n",
    "    (9, 17), \n",
    "    (18, 9.5), \n",
    "    (18, 20), \n",
    "    (11, 5), \n",
    "    (14, 30.5)\n",
    "        ]"
   ]
  },
  {
   "cell_type": "markdown",
   "id": "f7736a35-14fa-413a-8340-0c044843ddf8",
   "metadata": {},
   "source": [
    "# Funciones"
   ]
  },
  {
   "cell_type": "markdown",
   "id": "2ef4f97d-1d3a-4cb7-860c-3d95c917dddf",
   "metadata": {},
   "source": [
    "## Funciones de Q"
   ]
  },
  {
   "cell_type": "code",
   "execution_count": 112,
   "id": "fa519227-5af6-440b-91e6-534861a03f75",
   "metadata": {},
   "outputs": [],
   "source": [
    "def build_Q(circles, points):\n",
    "    Q = []\n",
    "    # 1) Input points\n",
    "    for idx, (x, y) in enumerate(points, start=1):\n",
    "        Q.append((x, y, \"input\", {idx}))\n",
    "    # 2) Left endpoints of circles\n",
    "    for idx, ((cx, cy), r) in enumerate(circles, start=1):\n",
    "        Q.append((cx - r, cy, \"left\", {idx}))\n",
    "    # 3) Order the list Q by x, then by y\n",
    "    return order_Q(Q)"
   ]
  },
  {
   "cell_type": "code",
   "execution_count": 113,
   "id": "69c4d15a-5d59-442d-b91b-07bfde929c13",
   "metadata": {},
   "outputs": [],
   "source": [
    "def order_Q(Q):\n",
    "    Q.sort(key=lambda t: (t[0], t[1]))\n",
    "    return Q"
   ]
  },
  {
   "cell_type": "code",
   "execution_count": 114,
   "id": "4a9fa629-ac65-4587-80cd-974ed9d20816",
   "metadata": {},
   "outputs": [],
   "source": [
    "def event_in_Q(Q, event, tol=1e-9):\n",
    "    \"\"\"\n",
    "    Regresa True si existe en Q un evento con mismo tipo e ids y con (x,y)\n",
    "    a distancia <= tol. De lo contrario False.\n",
    "    event debe ser (x, y, tipo, ids_set)\n",
    "    \"\"\"\n",
    "    x, y, etype, eids = event\n",
    "    for (qx, qy, qtype, qids) in Q:\n",
    "        if qtype != etype:\n",
    "            continue\n",
    "        if qids != eids:\n",
    "            continue\n",
    "        if abs(qx - x) <= tol and abs(qy - y) <= tol:\n",
    "            return True\n",
    "    return False\n",
    "\n",
    "\n",
    "def add_unique_events(Q, nuevos_eventos, tol=1e-9, keep_sorted=True):\n",
    "    \"\"\"\n",
    "    Agrega a Q los eventos de `nuevos_eventos` (tuplas estilo Q: (x, y, \"intersection\", {i,j}))\n",
    "    que no existan ya en Q (según `event_in_Q`).\n",
    "    Modifica Q in place. Regresa el número de eventos agregados.\n",
    "    \"\"\"\n",
    "    agregados = 0\n",
    "    for ev in nuevos_eventos:\n",
    "        # Validación básica de estructura\n",
    "        if not (isinstance(ev, (list, tuple)) and len(ev) == 4 and isinstance(ev[3], set)):\n",
    "            continue\n",
    "        if not event_in_Q(Q, ev, tol=tol):\n",
    "            Q.append(ev)\n",
    "            agregados += 1\n",
    "\n",
    "    # if agregados and keep_sorted:\n",
    "    #     # Ordena por (x, y) como tu order_Q\n",
    "    #     Q.sort(key=lambda t: (t[0], t[1]))\n",
    "    return agregados\n"
   ]
  },
  {
   "cell_type": "code",
   "execution_count": 115,
   "id": "f0a9083d-4a6d-42a0-be82-b77943af60a8",
   "metadata": {},
   "outputs": [
    {
     "name": "stdout",
     "output_type": "stream",
     "text": [
      "[(0, 17, 'left', {5}), (1, 11, 'left', {11}), (1, 23, 'left', {4}), (2.5, 17, 'left', {6}), (3, 4, 'left', {14}), (5.0, 4, 'left', {15}), (6.0, 30.5, 'left', {1}), (7.5, 30.5, 'left', {2}), (9, 17, 'input', {2}), (9.5, 17, 'left', {7}), (10, 9, 'left', {12}), (11, 5, 'input', {5}), (12, 15, 'left', {8}), (13, 5, 'left', {3}), (13, 9, 'left', {13}), (13, 24, 'left', {16}), (14, 30.5, 'input', {6}), (18, 9.5, 'input', {3}), (18, 20, 'input', {4}), (24, 19, 'left', {9}), (27, 17, 'left', {10}), (28, 18, 'input', {1})]\n"
     ]
    }
   ],
   "source": [
    "Q = build_Q(circles, points)\n",
    "print(Q)"
   ]
  },
  {
   "cell_type": "markdown",
   "id": "45a5d5eb-e6f6-46b0-b607-72eea64394ea",
   "metadata": {},
   "source": [
    "## Funciones de L"
   ]
  },
  {
   "cell_type": "code",
   "execution_count": 116,
   "id": "20708ce4-9e7c-4e7f-a5bc-ea8c1f4849c6",
   "metadata": {},
   "outputs": [],
   "source": [
    "eps = 1e-9\n",
    "x0 = Q[0][0] - eps\n",
    "\n",
    "sweepL = {\n",
    "    \"x\": x0,\n",
    "    \"active\": set(),\n",
    "    \"conditions\": [\n",
    "        {\"in\": set(), \"out\": set(), \"ineq\": []}\n",
    "    ]\n",
    "}"
   ]
  },
  {
   "cell_type": "code",
   "execution_count": 117,
   "id": "6c7d53db-d364-41ee-a113-fdf5510804fe",
   "metadata": {},
   "outputs": [],
   "source": [
    "def advance_sweep_to(sweepL, x_event, circles):\n",
    "    sweepL[\"x\"] = x_event"
   ]
  },
  {
   "cell_type": "markdown",
   "id": "d4a0e757-67b7-4f5d-97c9-90c2881d36c0",
   "metadata": {},
   "source": [
    "## Condiciones"
   ]
  },
  {
   "cell_type": "code",
   "execution_count": 118,
   "id": "d318b61c-3485-4a06-9912-0afa38c52e28",
   "metadata": {},
   "outputs": [],
   "source": [
    "def in_circle(x, y, cx, cy, r, tolerancia=1e-12):\n",
    "    \"\"\"\n",
    "    Evalua si un punto se encuentra dentro de un círculo.\n",
    "    Regresa Verdadero o Falso, dependiendo si cumpe o no.\n",
    "    Se usa una tolerancia para evitar errores por punto flotante\n",
    "    \"\"\"\n",
    "    print(\"Evalua el punto (\",x,\",\",y,\") en el círculo con centro en (\",cx,\",\",cy,\") y radio \",r)\n",
    "    print((x - cx)**2 + (y - cy)**2, \" <= \", r**2 + tolerancia, (x - cx)**2 + (y - cy)**2 <= r**2 + tolerancia)\n",
    "    return (x - cx)**2 + (y - cy)**2 <= r**2 + tolerancia"
   ]
  },
  {
   "cell_type": "code",
   "execution_count": 119,
   "id": "46383a3e-4153-446f-a898-8050632d1a3b",
   "metadata": {},
   "outputs": [],
   "source": [
    "def circle_y_bounds_at_x(circle, x0):\n",
    "    \"\"\"\n",
    "    Regresa los cortes (y_low, y_high) de la línea x = x0 \n",
    "    con el círculo con centro en (cx, cy) y radio r\n",
    "    Si la línea no intersecta al círculo regresa (None, None).\n",
    "    \"\"\"\n",
    "    (cx, cy), r = circle\n",
    "    # Calcula la distancia horizontal entre el centro del círculo\n",
    "    # y el punto x0\n",
    "    dx = x0 - cx\n",
    "    # Si esa distancia es mayor al radio, no se intersectan\n",
    "    if abs(dx) > r:\n",
    "        return None, None\n",
    "    # Si s[i se intersectan, calcula las intersecciones\n",
    "    h = math.sqrt(max(r*r - dx*dx, 0.0))\n",
    "    return cy - h, cy + h"
   ]
  },
  {
   "cell_type": "code",
   "execution_count": 120,
   "id": "adfc964d-8422-43f0-9885-c7ba1e032234",
   "metadata": {},
   "outputs": [],
   "source": [
    "# Hay 2 tipos de condiciones que puede tener una región\n",
    "# con respecto a un cículo activo en la línea de barrido sweepL:\n",
    "#    * Que esté dentro de ese círculo activo en sweepL\n",
    "#    * Que esté fuera de ese círculo activo en sweepL\n",
    "# y, si está fuera puede estar:\n",
    "#    * Por encima de ese círculo\n",
    "#    * Por debajo de ese círculo\n",
    "\n",
    "def satisfies(cond, x, y, circles):\n",
    "    # para evaluar si está dentro del círculo\n",
    "    for cid in cond.get(\"in\", set()):\n",
    "        (cx, cy), r = circles[cid - 1]\n",
    "        if not in_circle(x, y, cx, cy, r):\n",
    "            return False\n",
    "\n",
    "    # para evaluar si está fuera del circulo \n",
    "    for cid in cond.get(\"out\", set()):\n",
    "        (cx, cy), r = circles[cid - 1]\n",
    "        if in_circle(x, y, cx, cy, r):\n",
    "            return False\n",
    "\n",
    "    # para evaluar si está por encima o por debajo\n",
    "    for var, op, (cid, which) in cond.get(\"ineq\", []):\n",
    "        y_low, y_high = circle_y_bounds_at_x(circles[cid - 1], x)\n",
    "        if y_low is None:\n",
    "            # If the sweep line x doesn't intersect this circle at all,\n",
    "            # this inequality is not meaningful. Be conservative and fail.\n",
    "            return False\n",
    "        y_ref = y_low if which == \"y_low\" else y_high\n",
    "        if op == \"<\" and not (y < y_ref): return False\n",
    "        if op == \">\" and not (y > y_ref): return False\n",
    "\n",
    "    return True"
   ]
  },
  {
   "cell_type": "code",
   "execution_count": 121,
   "id": "b4f051cb-a8bb-430b-9733-f5bd9bac7293",
   "metadata": {},
   "outputs": [],
   "source": [
    "def leftend_point(Q, sweepL, circle_id, circles, eps=1e-6):\n",
    "    \"\"\"\n",
    "    Insert circle `circle_id` into the conditions model at sweepL['x'].\n",
    "    We only add the logical conditions; boundaries are computed lazily in `satisfies`.\n",
    "    \"\"\"\n",
    "    (cx, cy), r = circles[circle_id - 1]\n",
    "    print(\"Círculo izquierdo con centro en (\",cx,\",\",cy,\") y radio \",r)\n",
    "    \n",
    "    # Evaluate just to the right of the left endpoint to avoid tangency\n",
    "    x_prime = sweepL[\"x\"] + eps\n",
    "    dx = x_prime - cx\n",
    "    if abs(dx) > r + 1e-15:\n",
    "        # numerically outside the circle's vertical span at x', nothing to split\n",
    "        sweepL.setdefault(\"active\", set()).add(circle_id)\n",
    "        return Q, sweepL\n",
    "\n",
    "    # Find the single condition that contains (x_prime, cy) *before* inserting the circle\n",
    "    conds = sweepL[\"conditions\"]\n",
    "    print(\"Conditions\",conds)\n",
    "    k = None\n",
    "    for i, cond in enumerate(conds):\n",
    "        if satisfies(cond, x_prime, cy, circles):\n",
    "            k = i\n",
    "            break\n",
    "    if k is None:\n",
    "        k = len(conds) - 1  # fallback\n",
    "\n",
    "    base = conds[k]\n",
    "    print(\"base\", base)\n",
    "    base_in   = set(base.get(\"in\",  set()))\n",
    "    base_out  = set(base.get(\"out\", set()))\n",
    "    base_ineq = list(base.get(\"ineq\", []))\n",
    "\n",
    "    # Replace with three regions using symbolic inequalities tied to (circle_id, \"y_low\"/\"y_high\")\n",
    "    down = {\n",
    "        \"in\":   set(base_in),\n",
    "        \"out\":  set(base_out) | {circle_id},\n",
    "        \"ineq\": base_ineq + [(\"y\", \"<\", (circle_id, \"y_low\"))],\n",
    "    }\n",
    "    middle = {\n",
    "        \"in\":   set(base_in) | {circle_id},\n",
    "        \"out\":  set(base_out),\n",
    "        \"ineq\": list(base_ineq),\n",
    "    }\n",
    "    up = {\n",
    "        \"in\":   set(base_in),\n",
    "        \"out\":  set(base_out) | {circle_id},\n",
    "        \"ineq\": base_ineq + [(\"y\", \">\", (circle_id, \"y_high\"))],\n",
    "    }\n",
    "\n",
    "    print(\"down\", down)\n",
    "    print(\"middle\", middle)\n",
    "    print(\"up\", up)\n",
    "\n",
    "    print(\"Revisar intersección arriba: \", mark_intersection_needed(up))\n",
    "    if mark_intersection_needed(up):\n",
    "        print(intersections_from_condition(up, circles))\n",
    "        nuevos_eventos = intersections_from_condition(up, circles)\n",
    "        add_unique_events(Q, nuevos_eventos, tol=1e-9, keep_sorted=True)\n",
    "    print(\"Revisar intersección abajo: \", mark_intersection_needed(down))\n",
    "    if mark_intersection_needed(down):\n",
    "        print(intersections_from_condition(down, circles))\n",
    "        nuevos_eventos = intersections_from_condition(down, circles)\n",
    "        add_unique_events(Q, nuevos_eventos, tol=1e-9, keep_sorted=True)\n",
    "\n",
    "    Q.append((cx + r, cy, \"right\", {circle_id}))\n",
    "    order_Q(Q)\n",
    "    print(\"Q: \",Q)\n",
    "\n",
    "    sweepL[\"conditions\"] = conds[:k] + [down, middle, up] + conds[k+1:]\n",
    "    sweepL.setdefault(\"active\", set()).add(circle_id)\n",
    "\n",
    "    print(\"L\", sweepL)\n",
    "    return Q, sweepL"
   ]
  },
  {
   "cell_type": "code",
   "execution_count": 122,
   "id": "14d6ac8d-5a62-4982-bd00-91b40e3f9e3e",
   "metadata": {},
   "outputs": [
    {
     "name": "stdout",
     "output_type": "stream",
     "text": [
      "True\n",
      "None\n"
     ]
    }
   ],
   "source": [
    "def mark_intersection_needed(cond, var=\"y\"):\n",
    "    \"\"\"\n",
    "    Return 'check for intersection' if `cond[\"ineq\"]` contains BOTH '<' and '>' \n",
    "    inequalities for the given variable (default 'y'). Supports ANY number of inequalities.\n",
    "    Otherwise return None.\n",
    "    \"\"\"\n",
    "    lt = gt = False\n",
    "    for item in cond.get(\"ineq\", []):\n",
    "        if not isinstance(item, (list, tuple)) or len(item) != 3:\n",
    "            continue\n",
    "        v, op, _ = item\n",
    "        if v != var:\n",
    "            continue\n",
    "        if op == \"<\":\n",
    "            lt = True\n",
    "        elif op == \">\":\n",
    "            gt = True\n",
    "        if lt and gt:\n",
    "            return True\n",
    "    return None\n",
    "\n",
    "\n",
    "# Example:\n",
    "down = {'in': {11}, 'out': {11, 5}, 'ineq': [('y', '<', (5, 'y_low')), ('y', '<', (11, 'y_low'))]}\n",
    "up   = {'in': {11}, 'out': {11, 5}, 'ineq': [('y', '<', (5, 'y_low')), ('y', '>', (11, 'y_high'))]}\n",
    "print(mark_intersection_needed(up))  # -> \"check for intersection\"\n",
    "print(mark_intersection_needed(down))"
   ]
  },
  {
   "cell_type": "code",
   "execution_count": 123,
   "id": "3f53566f-92e5-4ebd-98f1-6dd582d5005a",
   "metadata": {},
   "outputs": [
    {
     "name": "stdout",
     "output_type": "stream",
     "text": [
      "[(5.777560750641795, 13.416666666666666, 'intersection', {11, 5}), (2.2224392493582052, 13.416666666666666, 'intersection', {11, 5})]\n"
     ]
    }
   ],
   "source": [
    "def circle_circle_intersections(c1, c2, tol=1e-12):\n",
    "    (x0, y0), r0 = c1\n",
    "    (x1, y1), r1 = c2\n",
    "    dx, dy = x1 - x0, y1 - y0\n",
    "    d = math.hypot(dx, dy)\n",
    "\n",
    "    # no solutions or infinite solutions (coincident) -> return none\n",
    "    if d > r0 + r1 + tol:         # separate\n",
    "        return []\n",
    "    if d < abs(r0 - r1) - tol:    # contained\n",
    "        return []\n",
    "    if d < tol and abs(r0 - r1) < tol:  # coincident\n",
    "        return []\n",
    "\n",
    "    # base point along the line of centers\n",
    "    a = (r0*r0 - r1*r1 + d*d) / (2*d)\n",
    "    h2 = r0*r0 - a*a\n",
    "    if h2 < -tol:\n",
    "        return []\n",
    "    h = math.sqrt(max(h2, 0.0))\n",
    "\n",
    "    xm = x0 + a * dx / d\n",
    "    ym = y0 + a * dy / d\n",
    "\n",
    "    if h <= tol:  # tangent (one point)\n",
    "        return [(xm, ym)]\n",
    "\n",
    "    # two intersection points\n",
    "    rx = -dy * (h / d)\n",
    "    ry =  dx * (h / d)\n",
    "    return [(xm + rx, ym + ry), (xm - rx, ym - ry)]\n",
    "\n",
    "def intersections_from_condition(cond, circles, var=\"y\"):\n",
    "    \"\"\"\n",
    "    Collect circle IDs from cond['ineq'] (for `var`), compute pairwise intersections,\n",
    "    and return Q-style tuples: (x, y, \"intersection\", {cid1, cid2}).\n",
    "    \"\"\"\n",
    "    circle_ids = sorted({cid for v, _, (cid, _) in cond.get(\"ineq\", []) if v == var})\n",
    "    if len(circle_ids) < 2:\n",
    "        return []\n",
    "\n",
    "    events = []\n",
    "    for i, j in combinations(circle_ids, 2):\n",
    "        pts = circle_circle_intersections(circles[i - 1], circles[j - 1])\n",
    "        for (x, y) in pts:\n",
    "            events.append((x, y, \"intersection\", {i, j}))\n",
    "    return events\n",
    "\n",
    "# Example:\n",
    "up = {'in': {11}, 'out': {11, 5}, 'ineq': [('y','<',(5,'y_low')), ('y','>',(11,'y_high'))]}\n",
    "print(intersections_from_condition(up, circles))\n"
   ]
  },
  {
   "cell_type": "code",
   "execution_count": 125,
   "id": "57cc628d-f6ea-4e03-8bad-a3f63a34b22e",
   "metadata": {},
   "outputs": [
    {
     "name": "stdout",
     "output_type": "stream",
     "text": [
      "Círculo izquierdo con centro en ( 4 , 17 ) y radio  4\n",
      "Conditions [{'in': set(), 'out': set(), 'ineq': []}]\n",
      "base {'in': set(), 'out': set(), 'ineq': []}\n",
      "down {'in': set(), 'out': {5}, 'ineq': [('y', '<', (5, 'y_low'))]}\n",
      "middle {'in': {5}, 'out': set(), 'ineq': []}\n",
      "up {'in': set(), 'out': {5}, 'ineq': [('y', '>', (5, 'y_high'))]}\n",
      "Revisar intersección arriba:  None\n",
      "Revisar intersección abajo:  None\n",
      "Q:  [(0, 17, 'left', {5}), (1, 11, 'left', {11}), (1, 23, 'left', {4}), (2.5, 17, 'left', {6}), (3, 4, 'left', {14}), (5.0, 4, 'left', {15}), (6.0, 30.5, 'left', {1}), (7.5, 30.5, 'left', {2}), (8, 17, 'right', {5}), (9, 17, 'input', {2}), (9.5, 17, 'left', {7}), (10, 9, 'left', {12}), (11, 5, 'input', {5}), (12, 15, 'left', {8}), (13, 5, 'left', {3}), (13, 9, 'left', {13}), (13, 24, 'left', {16}), (14, 30.5, 'input', {6}), (18, 9.5, 'input', {3}), (18, 20, 'input', {4}), (24, 19, 'left', {9}), (27, 17, 'left', {10}), (28, 18, 'input', {1})]\n",
      "L {'x': -1e-09, 'active': {5}, 'conditions': [{'in': set(), 'out': {5}, 'ineq': [('y', '<', (5, 'y_low'))]}, {'in': {5}, 'out': set(), 'ineq': []}, {'in': set(), 'out': {5}, 'ineq': [('y', '>', (5, 'y_high'))]}]}\n"
     ]
    },
    {
     "data": {
      "text/plain": [
       "([(0, 17, 'left', {5}),\n",
       "  (1, 11, 'left', {11}),\n",
       "  (1, 23, 'left', {4}),\n",
       "  (2.5, 17, 'left', {6}),\n",
       "  (3, 4, 'left', {14}),\n",
       "  (5.0, 4, 'left', {15}),\n",
       "  (6.0, 30.5, 'left', {1}),\n",
       "  (7.5, 30.5, 'left', {2}),\n",
       "  (8, 17, 'right', {5}),\n",
       "  (9, 17, 'input', {2}),\n",
       "  (9.5, 17, 'left', {7}),\n",
       "  (10, 9, 'left', {12}),\n",
       "  (11, 5, 'input', {5}),\n",
       "  (12, 15, 'left', {8}),\n",
       "  (13, 5, 'left', {3}),\n",
       "  (13, 9, 'left', {13}),\n",
       "  (13, 24, 'left', {16}),\n",
       "  (14, 30.5, 'input', {6}),\n",
       "  (18, 9.5, 'input', {3}),\n",
       "  (18, 20, 'input', {4}),\n",
       "  (24, 19, 'left', {9}),\n",
       "  (27, 17, 'left', {10}),\n",
       "  (28, 18, 'input', {1})],\n",
       " {'x': -1e-09,\n",
       "  'active': {5},\n",
       "  'conditions': [{'in': set(), 'out': {5}, 'ineq': [('y', '<', (5, 'y_low'))]},\n",
       "   {'in': {5}, 'out': set(), 'ineq': []},\n",
       "   {'in': set(), 'out': {5}, 'ineq': [('y', '>', (5, 'y_high'))]}]})"
      ]
     },
     "execution_count": 125,
     "metadata": {},
     "output_type": "execute_result"
    }
   ],
   "source": [
    "# split_segment_for_new_circle(sweepL, circle_id=5, circles=circles, eps=1e-6)\n",
    "leftend_point(Q, sweepL, circle_id=5, circles=circles, eps=1e-6)"
   ]
  },
  {
   "cell_type": "code",
   "execution_count": 126,
   "id": "5b91b0cc-e3f9-4413-8be8-ee224c493956",
   "metadata": {},
   "outputs": [
    {
     "name": "stdout",
     "output_type": "stream",
     "text": [
      "Círculo izquierdo con centro en ( 4 , 11 ) y radio  3\n",
      "Conditions [{'in': set(), 'out': {5}, 'ineq': [('y', '<', (5, 'y_low'))]}, {'in': {5}, 'out': set(), 'ineq': []}, {'in': set(), 'out': {5}, 'ineq': [('y', '>', (5, 'y_high'))]}]\n",
      "Evalua el punto ( 1.000001 , 11 ) en el círculo con centro en ( 4 , 17 ) y radio  4\n",
      "44.999994000000996  <=  16.000000000001 False\n",
      "base {'in': set(), 'out': {5}, 'ineq': [('y', '<', (5, 'y_low'))]}\n",
      "down {'in': set(), 'out': {11, 5}, 'ineq': [('y', '<', (5, 'y_low')), ('y', '<', (11, 'y_low'))]}\n",
      "middle {'in': {11}, 'out': {5}, 'ineq': [('y', '<', (5, 'y_low'))]}\n",
      "up {'in': set(), 'out': {11, 5}, 'ineq': [('y', '<', (5, 'y_low')), ('y', '>', (11, 'y_high'))]}\n",
      "Revisar intersección arriba:  True\n",
      "[(5.777560750641795, 13.416666666666666, 'intersection', {11, 5}), (2.2224392493582052, 13.416666666666666, 'intersection', {11, 5})]\n",
      "Revisar intersección abajo:  None\n",
      "Q:  [(0, 17, 'left', {5}), (1, 11, 'left', {11}), (1, 23, 'left', {4}), (2.2224392493582052, 13.416666666666666, 'intersection', {11, 5}), (2.5, 17, 'left', {6}), (3, 4, 'left', {14}), (5.0, 4, 'left', {15}), (5.777560750641795, 13.416666666666666, 'intersection', {11, 5}), (6.0, 30.5, 'left', {1}), (7, 11, 'right', {11}), (7.5, 30.5, 'left', {2}), (8, 17, 'right', {5}), (9, 17, 'input', {2}), (9.5, 17, 'left', {7}), (10, 9, 'left', {12}), (11, 5, 'input', {5}), (12, 15, 'left', {8}), (13, 5, 'left', {3}), (13, 9, 'left', {13}), (13, 24, 'left', {16}), (14, 30.5, 'input', {6}), (18, 9.5, 'input', {3}), (18, 20, 'input', {4}), (24, 19, 'left', {9}), (27, 17, 'left', {10}), (28, 18, 'input', {1})]\n",
      "L {'x': 1, 'active': {11, 5}, 'conditions': [{'in': set(), 'out': {11, 5}, 'ineq': [('y', '<', (5, 'y_low')), ('y', '<', (11, 'y_low'))]}, {'in': {11}, 'out': {5}, 'ineq': [('y', '<', (5, 'y_low'))]}, {'in': set(), 'out': {11, 5}, 'ineq': [('y', '<', (5, 'y_low')), ('y', '>', (11, 'y_high'))]}, {'in': {5}, 'out': set(), 'ineq': []}, {'in': set(), 'out': {5}, 'ineq': [('y', '>', (5, 'y_high'))]}]}\n"
     ]
    },
    {
     "data": {
      "text/plain": [
       "([(0, 17, 'left', {5}),\n",
       "  (1, 11, 'left', {11}),\n",
       "  (1, 23, 'left', {4}),\n",
       "  (2.2224392493582052, 13.416666666666666, 'intersection', {5, 11}),\n",
       "  (2.5, 17, 'left', {6}),\n",
       "  (3, 4, 'left', {14}),\n",
       "  (5.0, 4, 'left', {15}),\n",
       "  (5.777560750641795, 13.416666666666666, 'intersection', {5, 11}),\n",
       "  (6.0, 30.5, 'left', {1}),\n",
       "  (7, 11, 'right', {11}),\n",
       "  (7.5, 30.5, 'left', {2}),\n",
       "  (8, 17, 'right', {5}),\n",
       "  (9, 17, 'input', {2}),\n",
       "  (9.5, 17, 'left', {7}),\n",
       "  (10, 9, 'left', {12}),\n",
       "  (11, 5, 'input', {5}),\n",
       "  (12, 15, 'left', {8}),\n",
       "  (13, 5, 'left', {3}),\n",
       "  (13, 9, 'left', {13}),\n",
       "  (13, 24, 'left', {16}),\n",
       "  (14, 30.5, 'input', {6}),\n",
       "  (18, 9.5, 'input', {3}),\n",
       "  (18, 20, 'input', {4}),\n",
       "  (24, 19, 'left', {9}),\n",
       "  (27, 17, 'left', {10}),\n",
       "  (28, 18, 'input', {1})],\n",
       " {'x': 1,\n",
       "  'active': {5, 11},\n",
       "  'conditions': [{'in': set(),\n",
       "    'out': {5, 11},\n",
       "    'ineq': [('y', '<', (5, 'y_low')), ('y', '<', (11, 'y_low'))]},\n",
       "   {'in': {11}, 'out': {5}, 'ineq': [('y', '<', (5, 'y_low'))]},\n",
       "   {'in': set(),\n",
       "    'out': {5, 11},\n",
       "    'ineq': [('y', '<', (5, 'y_low')), ('y', '>', (11, 'y_high'))]},\n",
       "   {'in': {5}, 'out': set(), 'ineq': []},\n",
       "   {'in': set(), 'out': {5}, 'ineq': [('y', '>', (5, 'y_high'))]}]})"
      ]
     },
     "execution_count": 126,
     "metadata": {},
     "output_type": "execute_result"
    }
   ],
   "source": [
    "# Advance to circle 11's left endpoint\n",
    "(cx, cy), r = circles[11 - 1]\n",
    "advance_sweep_to(sweepL, cx - r, circles)\n",
    "\n",
    "leftend_point(Q, sweepL, circle_id=11, circles=circles, eps=1e-6)"
   ]
  },
  {
   "cell_type": "code",
   "execution_count": 127,
   "id": "cc151cb7-a7ac-4aaa-a7a1-4461fc06459b",
   "metadata": {},
   "outputs": [
    {
     "data": {
      "text/plain": [
       "{'x': 1,\n",
       " 'active': {5, 11},\n",
       " 'conditions': [{'in': set(),\n",
       "   'out': {5, 11},\n",
       "   'ineq': [('y', '<', (5, 'y_low')), ('y', '<', (11, 'y_low'))]},\n",
       "  {'in': {11}, 'out': {5}, 'ineq': [('y', '<', (5, 'y_low'))]},\n",
       "  {'in': set(),\n",
       "   'out': {5, 11},\n",
       "   'ineq': [('y', '<', (5, 'y_low')), ('y', '>', (11, 'y_high'))]},\n",
       "  {'in': {5}, 'out': set(), 'ineq': []},\n",
       "  {'in': set(), 'out': {5}, 'ineq': [('y', '>', (5, 'y_high'))]}]}"
      ]
     },
     "execution_count": 127,
     "metadata": {},
     "output_type": "execute_result"
    }
   ],
   "source": [
    "sweepL"
   ]
  },
  {
   "cell_type": "code",
   "execution_count": null,
   "id": "b8378cbd-5724-4861-8736-995acac5cb06",
   "metadata": {},
   "outputs": [],
   "source": []
  },
  {
   "cell_type": "markdown",
   "id": "511e8a6b-cd10-4b9b-bd5a-3697c9da4d4d",
   "metadata": {},
   "source": [
    "# Algoritmo final"
   ]
  },
  {
   "cell_type": "code",
   "execution_count": null,
   "id": "47996da8-47a5-49dd-92f8-631a356c599b",
   "metadata": {
    "scrolled": true
   },
   "outputs": [],
   "source": [
    "def algoritmo(circles, points):\n",
    "    # Inicializar variables\n",
    "    Ac = circles\n",
    "    Q = build_Q(circles, points)\n",
    "    eps = 1e-9\n",
    "    x0 = Q[0][0] - eps\n",
    "    sweepL = {\n",
    "    \"x\": x0,\n",
    "    \"active\": set(),\n",
    "    \"conditions\": [\n",
    "        {\"in\": set(), \"out\": set(), \"ineq\": []}\n",
    "        ]\n",
    "    }\n",
    "    print(\"Antes de iniciar:\")\n",
    "    print(\"Q = \", Q)\n",
    "    print(\"Línea de barrido =\", sweepL)\n",
    "    print(\"Ac =\", Ac)\n",
    "    i = 0\n",
    "    while i < len(Q):\n",
    "        x, y, kind, idx = Q[i]\n",
    "\n",
    "        advance_sweep_to(sweepL, x, circles)\n",
    "        \n",
    "        if kind == \"input\":\n",
    "            print(f\"Point ({x}, {y}) is an INPUT point, index {idx}\")\n",
    "    \n",
    "        elif kind == \"left\":\n",
    "            circle_idx = list(idx)[0]  # get the circle index from the set\n",
    "            print(f\"Point ({x}, {y}) is a LEFT endpoint of circle {idx}\")\n",
    "\n",
    "            # Actualizar Q y L\n",
    "            Q, sweepL = leftend_point(Q, sweepL, circle_id=circle_idx, circles=circles, eps=1e-6)\n",
    "    \n",
    "        elif kind == \"right\":\n",
    "            print(f\"Point ({x}, {y}) is a RIGHT endpoint of circle {idx}\")\n",
    "\n",
    "        elif kind == \"intersection\":\n",
    "            print(f\"Point ({x}, {y}) is a INTERSECTION point of circles {idx}\")\n",
    "        i += 1\n",
    "\n",
    "\n",
    "\n",
    "\n",
    "algoritmo(circles, points)"
   ]
  },
  {
   "cell_type": "code",
   "execution_count": null,
   "id": "b30484aa-acd7-4ccc-849c-6dc77a980d00",
   "metadata": {},
   "outputs": [],
   "source": []
  }
 ],
 "metadata": {
  "kernelspec": {
   "display_name": "Python 3 (ipykernel)",
   "language": "python",
   "name": "python3"
  },
  "language_info": {
   "codemirror_mode": {
    "name": "ipython",
    "version": 3
   },
   "file_extension": ".py",
   "mimetype": "text/x-python",
   "name": "python",
   "nbconvert_exporter": "python",
   "pygments_lexer": "ipython3",
   "version": "3.11.13"
  }
 },
 "nbformat": 4,
 "nbformat_minor": 5
}
